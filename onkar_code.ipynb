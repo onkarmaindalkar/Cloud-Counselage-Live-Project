{
 "cells": [
  {
   "cell_type": "code",
   "execution_count": 30,
   "metadata": {},
   "outputs": [],
   "source": [
    "import pandas as pd\n",
    "import numpy as np\n",
    "\n",
    "\n",
    "from sklearn.feature_extraction.text import TfidfVectorizer\n",
    "from sklearn.feature_extraction import text\n",
    "from sklearn.feature_selection import chi2\n",
    "from sklearn.model_selection import train_test_split\n"
   ]
  },
  {
   "cell_type": "code",
   "execution_count": 33,
   "metadata": {},
   "outputs": [],
   "source": [
    "\n",
    "df = pd.read_excel(\"train_data.xlsx\",usecols= [0,1])\n",
    "target_name = df['Domains+Events'].unique().tolist()"
   ]
  },
  {
   "cell_type": "code",
   "execution_count": 34,
   "metadata": {},
   "outputs": [],
   "source": [
    "df['Id'] = df['Domains+Events'].factorize()[0]"
   ]
  },
  {
   "cell_type": "code",
   "execution_count": 35,
   "metadata": {},
   "outputs": [],
   "source": [
    "category_id_df = df[['Domains+Events', 'Id']].drop_duplicates().sort_values('Id')\n",
    "category_to_id = dict(category_id_df.values)\n",
    "id_to_category = dict(category_id_df[['Id', 'Domains+Events']].values)"
   ]
  },
  {
   "cell_type": "code",
   "execution_count": 36,
   "metadata": {},
   "outputs": [],
   "source": [
    "stopword = text.ENGLISH_STOP_WORDS.difference([\"AI\", \"ai\"])\n",
    "\n",
    "tfidf = TfidfVectorizer(sublinear_tf=True, min_df=2, norm='l2', encoding='latin-1', ngram_range=(1, 2), stop_words= stopword, token_pattern = r\"(?u)c\\+{2}|\\b\\w+\\b\")\n",
    "features = tfidf.fit_transform(df['Event Names'].values)\n",
    "labels = df['Domains+Events']\n"
   ]
  },
  {
   "cell_type": "code",
   "execution_count": 37,
   "metadata": {},
   "outputs": [],
   "source": [
    "\n",
    "for product, category_id in sorted(category_to_id.items()):\n",
    "    features_chi2 = chi2(features, labels == category_id)\n",
    "    indices = np.argsort(features_chi2[0])\n",
    "    feature_names = np.array(tfidf.get_feature_names())[indices]\n",
    "    uni = [v for v in feature_names if len(v.split(' ')) == 1]\n",
    "    bi = [v for v in feature_names if len(v.split(' ')) == 2]\n",
    "    #print(\"# '{}':\".format(Product))\n",
    "    #print(\"  . Most correlated unigrams:\\n. {}\".format('\\n. '.join(uni[-2:])))\n",
    "    #print(\"  . Most correlated bigrams:\\n. {}\".format('\\n. '.join(bi[-2:])))"
   ]
  },
  {
   "cell_type": "code",
   "execution_count": 38,
   "metadata": {},
   "outputs": [],
   "source": [
    "from sklearn.svm import LinearSVC\n",
    "svc = LinearSVC()\n",
    "xtrain, xtest, ytrain, ytest, indices_train, indices_test = train_test_split(features, labels, df.index, test_size=0.01, random_state=0)"
   ]
  },
  {
   "cell_type": "code",
   "execution_count": 39,
   "metadata": {},
   "outputs": [],
   "source": [
    "svc.fit(xtrain, ytrain)\n",
    "y_pred = svc.predict(xtest)"
   ]
  },
  {
   "cell_type": "code",
   "execution_count": 40,
   "metadata": {},
   "outputs": [
    {
     "data": {
      "text/plain": [
       "LinearSVC()"
      ]
     },
     "execution_count": 40,
     "metadata": {},
     "output_type": "execute_result"
    }
   ],
   "source": [
    "svc = LinearSVC()\n",
    "\n",
    "svc.fit(features, labels)"
   ]
  },
  {
   "cell_type": "code",
   "execution_count": 41,
   "metadata": {},
   "outputs": [],
   "source": [
    "N = 2\n",
    "for Product, category_id in sorted(category_to_id.items()):\n",
    "    indices = np.argsort(svc.coef_[category_id])\n",
    "    feature_names = np.array(tfidf.get_feature_names())[indices]\n",
    "    uni = [v for v in reversed(feature_names) if len(v.split(' ')) == 1][:2]\n",
    "    bi = [v for v in reversed(feature_names) if len(v.split(' ')) == 2][:2]\n",
    "    "
   ]
  },
  {
   "cell_type": "code",
   "execution_count": 42,
   "metadata": {},
   "outputs": [],
   "source": [
    "def query_ans(event_dom, event_type, employees):\n",
    "    return employees.query(\"Domain == '\" + event_dom + \"' and (Event1 == '\" + event_type +\"' or Event2 == '\" + event_type + \"')\")\n"
   ]
  },
  {
   "cell_type": "code",
   "execution_count": 43,
   "metadata": {},
   "outputs": [],
   "source": [
    "def predict(inp_eve, employees):\n",
    "        recommendations = []\n",
    "        prediction = svc.predict(tfidf.transform(inp_eve))  \n",
    "        for text, predicted in zip(inp_eve, prediction):\n",
    "            print('\"{}\"'.format(text))\n",
    "            print(\"  - Predicted as: '{}'\".format(predicted))\n",
    "            print(\"\")\n",
    "        for predictions in prediction.tolist():\n",
    "            domain, event_type = predictions.split(\".\")\n",
    "            if domain == 'Artificial_Intelligence':\n",
    "                recommend_to = query_ans('Artificial Intelligence', event_type, employees)\n",
    "                \n",
    "            elif domain == 'WebDev':\n",
    "                recommend_to = query_ans('Web Development', event_type, employees)\n",
    "                \n",
    "            elif domain == 'Mobile_Applications':\n",
    "                recommend_to = query_ans('Mobile Applications', event_type, employees)\n",
    "                \n",
    "            elif domain == 'ML':\n",
    "                recommend_to = query_ans('Machine Learning', event_type, employees)\n",
    "                \n",
    "            elif domain == 'CC':\n",
    "                recommend_to = query_ans('Cloud Computing', event_type, employees)\n",
    "                \n",
    "            elif domain == 'Higher_Education':\n",
    "                recommend_to = query_ans('Higher Education', event_type, employees)\n",
    "                \n",
    "            elif domain == 'DevOps':\n",
    "                recommend_to = query_ans('Development Processes', event_type, employees)\n",
    "                \n",
    "            elif domain == 'Software_Architecture':\n",
    "                recommend_to = query_ans('Software Architecture', event_type, employees)\n",
    "                \n",
    "            elif domain == 'Data_Science':\n",
    "                recommend_to = query_ans('Data Science', event_type, employees)\n",
    "                \n",
    "            elif domain == 'Cpp':\n",
    "                recommend_to = query_ans('C++', event_type, employees)\n",
    "                \n",
    "            elif domain == 'None':\n",
    "                recommend_to = employees.query(\"Event1 == '\" + event_type + \"' or Event2 == '\" + event_type + \"'\")\n",
    "                \n",
    "            else:\n",
    "                recommend_to = query_ans(domain, event_type, employees)\n",
    "                \n",
    "            recommendations.append(\", \".join(recommend_to['Name'].values))\n",
    "            \n",
    "        return recommendations\n"
   ]
  },
  {
   "cell_type": "code",
   "execution_count": 44,
   "metadata": {},
   "outputs": [],
   "source": [
    "def make_predictions():\n",
    "    path=input(\"Enter name of input file\")\n",
    "    employees = pd.read_csv(\"CCMLEmployeeData.csv\")\n",
    "    to_pred_events = pd.read_csv(path, encoding= 'unicode_escape')\n",
    "    recommendations = predict(to_pred_events.Events, employees)\n",
    "    to_pred_events['Employees'] = recommendations\n",
    "    to_pred_events.to_excel('output.xlsx', index=False)"
   ]
  },
  {
   "cell_type": "code",
   "execution_count": 48,
   "metadata": {},
   "outputs": [
    {
     "name": "stdout",
     "output_type": "stream",
     "text": [
      "Enter name of input fileInputs_for_recommendation.csv\n",
      "\"Learn Java Basics  and get Certification for Free!!\"\n",
      "  - Predicted as: 'Java.Webinars'\n",
      "\n",
      "\"Job openings for C++ Developer at Amazon\"\n",
      "  - Predicted as: 'Cpp.Jobs'\n",
      "\n",
      "\"Machine learning is new technology attend the webinar now!\"\n",
      "  - Predicted as: 'Artificial_Intelligence.Webinars'\n",
      "\n",
      "\"Workshop on Financial markets this weekend!Hurry up!!\"\n",
      "  - Predicted as: 'Finance.Webinars'\n",
      "\n",
      "\"Two days Machine Learning Crash Course by MLI\"\n",
      "  - Predicted as: 'ML.Trainings'\n",
      "\n",
      "\"Talks on Job Oppurtunities in Data Science\"\n",
      "  - Predicted as: 'Data_Science.Talks'\n",
      "\n",
      "\"Mobile World Conference 2020. Registrations open soon!\"\n",
      "  - Predicted as: 'Mobile_Applications.Seminars'\n",
      "\n",
      "\"Apply for these Data Scientist positions at Google\"\n",
      "  - Predicted as: 'Data_Science.Jobs'\n",
      "\n",
      "\"Plan your Higher Studies with this Seminar.Hurry up Few Seats Available!!\"\n",
      "  - Predicted as: 'Higher_Education.Seminars'\n",
      "\n",
      "\"Workshops for Higher Education of students\"\n",
      "  - Predicted as: 'Higher_Education.Expos'\n",
      "\n",
      "\"Mobile Application developer : Job Opening at XYZ\"\n",
      "  - Predicted as: 'Mobile_Applications.Jobs'\n",
      "\n",
      "\"Get Python Certified in one month.Hurry up, Few seats available!\"\n",
      "  - Predicted as: 'Python.Certifications'\n",
      "\n",
      "\"Hackerrank Summer Coding Challenge is here!\"\n",
      "  - Predicted as: 'Coding.Internships'\n",
      "\n"
     ]
    }
   ],
   "source": [
    "make_predictions()"
   ]
  },
  {
   "cell_type": "code",
   "execution_count": 51,
   "metadata": {},
   "outputs": [
    {
     "name": "stdout",
     "output_type": "stream",
     "text": [
      "Enter name of input fileInputs_for_recommendation.csv\n",
      "\"Learn Java Basics  and get Certification for Free!!\"\n",
      "  - Predicted as: 'Java.Webinars'\n",
      "\n",
      "\"Job openings for C++ Developer at Amazon\"\n",
      "  - Predicted as: 'Cpp.Jobs'\n",
      "\n",
      "\"Machine learning is new technology attend the webinar now!\"\n",
      "  - Predicted as: 'Artificial_Intelligence.Webinars'\n",
      "\n",
      "\"Workshop on Financial markets this weekend!Hurry up!!\"\n",
      "  - Predicted as: 'Finance.Webinars'\n",
      "\n",
      "\"Two days Machine Learning Crash Course by MLI\"\n",
      "  - Predicted as: 'ML.Trainings'\n",
      "\n",
      "\"Talks on Job Oppurtunities in Data Science\"\n",
      "  - Predicted as: 'Data_Science.Talks'\n",
      "\n",
      "\"Mobile World Conference 2020. Registrations open soon!\"\n",
      "  - Predicted as: 'Mobile_Applications.Seminars'\n",
      "\n",
      "\"Apply for these Data Scientist positions at Google\"\n",
      "  - Predicted as: 'Data_Science.Jobs'\n",
      "\n",
      "\"Plan your Higher Studies with this Seminar.Hurry up Few Seats Available!!\"\n",
      "  - Predicted as: 'Higher_Education.Seminars'\n",
      "\n",
      "\"Workshops for Higher Education of students\"\n",
      "  - Predicted as: 'Higher_Education.Expos'\n",
      "\n",
      "\"Mobile Application developer : Job Opening at XYZ\"\n",
      "  - Predicted as: 'Mobile_Applications.Jobs'\n",
      "\n",
      "\"Get Python Certified in one month.Hurry up, Few seats available!\"\n",
      "  - Predicted as: 'Python.Certifications'\n",
      "\n",
      "\"Hackerrank Summer Coding Challenge is here!\"\n",
      "  - Predicted as: 'Coding.Internships'\n",
      "\n"
     ]
    }
   ],
   "source": [
    "import numpy as np\n",
    "import pandas as pd\n",
    "\n",
    "from sklearn.feature_extraction.text import TfidfVectorizer\n",
    "from sklearn.feature_extraction import text\n",
    "from sklearn.feature_selection import chi2\n",
    "from sklearn.model_selection import train_test_split\n",
    "\n",
    "df = pd.read_excel(\"train_data.xlsx\",usecols= [0,1])\n",
    "target_name = df['Domains+Events'].unique().tolist()\n",
    "df['Id'] = df['Domains+Events'].factorize()[0]\n",
    "\n",
    "\n",
    "category_id_df = df[['Domains+Events', 'Id']].drop_duplicates().sort_values('Id')\n",
    "category_to_id = dict(category_id_df.values)\n",
    "id_to_category = dict(category_id_df[['Id', 'Domains+Events']].values)\n",
    "\n",
    "\n",
    "stopword = text.ENGLISH_STOP_WORDS.difference([\"AI\", \"ai\"])\n",
    "\n",
    "tfidf = TfidfVectorizer(sublinear_tf=True, min_df=2, norm='l2', encoding='latin-1', ngram_range=(1, 2), stop_words= stopword, token_pattern = r\"(?u)c\\+{2}|\\b\\w+\\b\")\n",
    "features = tfidf.fit_transform(df['Event Names'].values)\n",
    "labels = df['Domains+Events']\n",
    "\n",
    "for product, category_id in sorted(category_to_id.items()):\n",
    "    features_chi2 = chi2(features, labels == category_id)\n",
    "    indices = np.argsort(features_chi2[0])\n",
    "    feature_names = np.array(tfidf.get_feature_names())[indices]\n",
    "    uni = [v for v in feature_names if len(v.split(' ')) == 1]\n",
    "    bi = [v for v in feature_names if len(v.split(' ')) == 2]\n",
    "    #print(\"# '{}':\".format(Product))\n",
    "    #print(\"  . Most correlated unigrams:\\n. {}\".format('\\n. '.join(uni[-2:])))\n",
    "    #print(\"  . Most correlated bigrams:\\n. {}\".format('\\n. '.join(bi[-2:])))\n",
    "\n",
    "from sklearn.svm import LinearSVC\n",
    "svc = LinearSVC()\n",
    "xtrain, xtest, ytrain, ytest, indices_train, indices_test = train_test_split(features, labels, df.index, test_size=0.01, random_state=0)\n",
    "\n",
    "\n",
    "svc.fit(xtrain, ytrain)\n",
    "y_pred = svc.predict(xtest)\n",
    "\n",
    "svc = LinearSVC()\n",
    "svc.fit(features, labels)\n",
    "\n",
    "\n",
    "\n",
    "for Product, category_id in sorted(category_to_id.items()):\n",
    "    indices = np.argsort(svc.coef_[category_id])\n",
    "    feature_names = np.array(tfidf.get_feature_names())[indices]\n",
    "    uni = [v for v in reversed(feature_names) if len(v.split(' ')) == 1][:2]\n",
    "    bi = [v for v in reversed(feature_names) if len(v.split(' ')) == 2][:2]\n",
    "    \n",
    "\n",
    "def query_ans(event_dom, event_type, employees):\n",
    "    return employees.query(\"Domain == '\" + event_dom + \"' and (Event1 == '\" + event_type +\"' or Event2 == '\" + event_type + \"')\")\n",
    "\n",
    "\n",
    "def predict(inp_eve, employees):\n",
    "        recommendations = []\n",
    "        prediction = svc.predict(tfidf.transform(inp_eve))  \n",
    "        for text, predicted in zip(inp_eve, prediction):\n",
    "            print('\"{}\"'.format(text))\n",
    "            print(\"  - Predicted as: '{}'\".format(predicted))\n",
    "            print(\"\")\n",
    "        for predictions in prediction.tolist():\n",
    "            domain, event_type = predictions.split(\".\")\n",
    "            if domain == 'Artificial_Intelligence':\n",
    "                recommend_to = query_ans('Artificial Intelligence', event_type, employees)\n",
    "\n",
    "            elif domain == 'Data_Science':\n",
    "                recommend_to = query_ans('Data Science', event_type, employees)\n",
    "\n",
    "            elif domain == 'CC':\n",
    "                recommend_to = query_ans('Cloud Computing', event_type, employees)\n",
    "\n",
    "            elif domain == 'WebDev':\n",
    "                recommend_to = query_ans('Web Development', event_type, employees)\n",
    "                \n",
    "            elif domain == 'Mobile_Applications':\n",
    "                recommend_to = query_ans('Mobile Applications', event_type, employees)\n",
    "\n",
    "            elif domain == 'Software_Architecture':\n",
    "                recommend_to = query_ans('Software Architecture', event_type, employees)\n",
    "\n",
    "            elif domain == 'ML':\n",
    "                recommend_to = query_ans('Machine Learning', event_type, employees)\n",
    "                \n",
    "            elif domain == 'Higher_Education':\n",
    "                recommend_to = query_ans('Higher Education', event_type, employees)\n",
    "                \n",
    "            elif domain == 'DevOps':\n",
    "                recommend_to = query_ans('Development Processes', event_type, employees)\n",
    "                      \n",
    "            elif domain == 'Cpp':\n",
    "                recommend_to = query_ans('C++', event_type, employees)\n",
    "                \n",
    "            elif domain == 'None':\n",
    "                recommend_to = employees.query(\"Event1 == '\" + event_type + \"' or Event2 == '\" + event_type + \"'\")\n",
    "                \n",
    "            else:\n",
    "                recommend_to = query_ans(domain, event_type, employees)\n",
    "                \n",
    "            recommendations.append(\", \".join(recommend_to['Name'].values))\n",
    "            \n",
    "        return recommendations\n",
    "\n",
    "def create_excel():\n",
    "    path=input(\"Enter name of input file\")\n",
    "    employees = pd.read_csv(\"CCMLEmployeeData.csv\")\n",
    "    to_pred_events = pd.read_csv(path, encoding= 'unicode_escape')\n",
    "    recommendations = predict(to_pred_events.Events, employees)\n",
    "    to_pred_events['Employees'] = recommendations\n",
    "    to_pred_events.to_excel('result.xlsx', index=False)\n",
    "create_excel()"
   ]
  },
  {
   "cell_type": "code",
   "execution_count": null,
   "metadata": {},
   "outputs": [],
   "source": []
  }
 ],
 "metadata": {
  "kernelspec": {
   "display_name": "Python 3",
   "language": "python",
   "name": "python3"
  },
  "language_info": {
   "codemirror_mode": {
    "name": "ipython",
    "version": 3
   },
   "file_extension": ".py",
   "mimetype": "text/x-python",
   "name": "python",
   "nbconvert_exporter": "python",
   "pygments_lexer": "ipython3",
   "version": "3.7.6"
  }
 },
 "nbformat": 4,
 "nbformat_minor": 4
}
